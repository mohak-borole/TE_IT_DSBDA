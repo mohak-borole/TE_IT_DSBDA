{
 "cells": [
  {
   "cell_type": "code",
   "execution_count": 1,
   "metadata": {},
   "outputs": [],
   "source": [
    "import requests\n",
    "import bs4"
   ]
  },
  {
   "cell_type": "code",
   "execution_count": 4,
   "metadata": {},
   "outputs": [
    {
     "data": {
      "text/plain": [
       "<Response [200]>"
      ]
     },
     "execution_count": 4,
     "metadata": {},
     "output_type": "execute_result"
    }
   ],
   "source": [
    "request1 = requests.get('https://www.amazon.com/dp/B08C1W5N87?ref_=Oct_DLandingS_D_29b8c69f_NA')\n",
    "request1"
   ]
  },
  {
   "cell_type": "code",
   "execution_count": 5,
   "metadata": {},
   "outputs": [],
   "source": [
    "soup = bs4.BeautifulSoup(request1.text)"
   ]
  },
  {
   "cell_type": "code",
   "execution_count": 7,
   "metadata": {},
   "outputs": [
    {
     "name": "stdout",
     "output_type": "stream",
     "text": [
      "\n",
      "I just regret not having reacted earlier and bought my Amazon fire stick a long time ago, instead of paying for a cable subscription unnecessarily. The HD picture quality is sharp crisp and despite response to the commands not being as fast as cable (showing some micro-second slags with the remote) that seems to be only a very minor inconvenience, almost unnoticeable. You will get a stable signal as long as your internet service enjoys a reliable connection as well. The set up was a breeze and very straightforward and I love the minimalist design parameters of the remote, very sleek and intuitive and all you need at a simple click of your fingertips. There is obviously a learning curve into changing to full streaming services but is more about the learning experience to navigate the app and getting acquainted with the remote, getting familiar with the apps you’d like to keep and avoid getting lured into acquiring new pay streaming services unnecessary for your needs or preferences. Beware, the current streaming offer seems to be enormous, so I can see it might take you some time just organizing your preferences.The fire TV will let you organize access into separate user profiles and establishing parental controls or limited access accordingly. Overall, it proves to be a simple solution for quality streaming services at a very convenient price and a definite good bye to my regrets for paying expensive cable tv services!\n",
      "\n",
      "\n",
      "\n",
      "The Amazon Fire Stick has completely transformed my TV viewing experience. With its sleek design and effortless setup, accessing a world of entertainment has never been easier. From streaming my favorite shows and movies on Netflix, Prime Video, and Disney+, to discovering new content with Alexa voice search, the possibilities are endless.The responsive interface and smooth playback ensure uninterrupted viewing pleasure, while the vast selection of apps and channels cater to every preference. Whether it's binge-watching series, catching up on the latest sports events, or indulging in gaming, the Fire Stick delivers high-quality streaming with unparalleled convenience.Furthermore, the inclusion of Alexa voice remote adds another layer of convenience, allowing seamless navigation and control with simple voice commands. Overall, the Amazon Fire Stick is a must-have for anyone looking to elevate their entertainment setup. It's compact, powerful, and delivers a premium streaming experience that surpasses expectations. Highly recommended!\n",
      "\n",
      "\n",
      "\n",
      "Got this as a replacement for an old Fire Stick that was having issues and to turn my old dumb TV into a smart TV as it lacks WiFi connectivity. I've used both the Fire Stick and the Google Chromecast in the past with good success but prefer the Fire Stick (just my preference). The Fire Stick was easy to set up and pretty inexpensive. Being as I don't have cable at our cottage this Fire Stick allows me to watch Netflix and Prime as well as some of the other apps built in. The original Fire Stick had to be 8 years old (maybe older) and would hang up or just sign me out. Tried clearing the cashe but no success. This one is working great so far.\n",
      "\n",
      "\n",
      "\n",
      "Let me prequalify this review stating that I have been an Amazon Firestick and Fire TV and Fire TV Recast user almost since they've first come out.  I've purchased about 20 of these over my lifetime so far, so I have considerable experience with them.  So my requests are probably not beginner requests but things I've noticed over time.There are a few crucial features I think should be added to Firestick to make them a game-changing option.1) The faster processing when changing menues.  The firstick is great but becomes sluggish over time.  Short of a full factor reset it would be nice to have a way to clear and manage memory better.  Also optimized screen display with perhaps text placeholders before images are displayed.  Sometimes the menus take up to 20-50 seconds to come up.2) Pictue-in-Picture mode.  It would be a great addition to allow picture in picture so you can be previewing a local news channel, youtube or other live content while watching a movie.3) Multi-screen capability to be able to connect multiple HDMI devices or synchronize between firestick devices for a single control point.  An example of this would be where video has extended content, displayed it on a second screen.  Or create a multi-screen wide-screen for a panorama effect.4) Skill panels as an extensible video overlay.  For example, have skills for different overlay tasks suck as a SmartHome panel or Stock Ticker panel that you can enable to overlay on a box on the screen or along the bottom ticker.5) Internal Volume - the ability to control volume directly from the Firestick device for those TVs or sound bars that do not easily integrate with the remote.  This is especially handy when streaming the audio via the HDMI output.\n",
      "\n",
      "\n"
     ]
    }
   ],
   "source": [
    "reviews = soup.find_all(\"div\" , {\"class\" : \"a-expander-content reviewText review-text-content a-expander-partial-collapse-content\"})\n",
    "for review in reviews:\n",
    "    print(review.get_text() +\"\\n\")"
   ]
  },
  {
   "cell_type": "code",
   "execution_count": 11,
   "metadata": {},
   "outputs": [
    {
     "name": "stdout",
     "output_type": "stream",
     "text": [
      "4.7 out of 5\n"
     ]
    }
   ],
   "source": [
    "ratings = soup.find(\"span\", {\"data-hook\" : \"rating-out-of-text\"}).get_text()\n",
    "print(ratings)"
   ]
  },
  {
   "cell_type": "code",
   "execution_count": null,
   "metadata": {},
   "outputs": [],
   "source": []
  }
 ],
 "metadata": {
  "kernelspec": {
   "display_name": "Python 3",
   "language": "python",
   "name": "python3"
  },
  "language_info": {
   "codemirror_mode": {
    "name": "ipython",
    "version": 3
   },
   "file_extension": ".py",
   "mimetype": "text/x-python",
   "name": "python",
   "nbconvert_exporter": "python",
   "pygments_lexer": "ipython3",
   "version": "3.10.12"
  }
 },
 "nbformat": 4,
 "nbformat_minor": 2
}
